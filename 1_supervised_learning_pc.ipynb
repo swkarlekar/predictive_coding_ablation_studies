{
 "cells": [
  {
   "cell_type": "markdown",
   "metadata": {},
   "source": [
    "# Supervised learning using predictive coding\n",
    "\n",
    "This notebook illustrates how the predictive coding library can be used to train a predictive coding network on a supervised learning task (MNIST)."
   ]
  },
  {
   "cell_type": "markdown",
   "metadata": {},
   "source": [
    "[![Open In Colab](https://colab.research.google.com/assets/colab-badge.svg)](https://colab.research.google.com/github/Bogacz-Group/PredictiveCoding/blob/main/1_supervised_learning_pc.ipynb)"
   ]
  },
  {
   "cell_type": "code",
   "execution_count": 12,
   "metadata": {},
   "outputs": [],
   "source": [
    "# import pc library of the code is being run on google colab\n",
    "try:\n",
    "  import google.colab\n",
    "  !git clone https://github.com/Bogacz-Group/PredictiveCoding.git\n",
    "  ! cp -r PredictiveCoding/predictive_coding predictive_coding \n",
    "except ImportError:\n",
    "  pass"
   ]
  },
  {
   "cell_type": "code",
   "execution_count": 13,
   "metadata": {},
   "outputs": [
    {
     "name": "stdout",
     "output_type": "stream",
     "text": [
      "using cpu\n"
     ]
    }
   ],
   "source": [
    "import torch\n",
    "import torch.nn as nn\n",
    "import torch.optim as optim\n",
    "from torchvision import datasets, transforms\n",
    "import torch.nn.functional as F\n",
    "import random\n",
    "import numpy as np\n",
    "import os\n",
    "import matplotlib.pyplot as plt\n",
    "from tqdm import tqdm\n",
    "import copy \n",
    "\n",
    "import predictive_coding as pc\n",
    "\n",
    "torch.manual_seed(42)\n",
    "device = torch.device(\"cuda\" if torch.cuda.is_available() else \"cpu\")\n",
    "print(f'using {device}')"
   ]
  },
  {
   "cell_type": "code",
   "execution_count": 14,
   "metadata": {},
   "outputs": [
    {
     "name": "stdout",
     "output_type": "stream",
     "text": [
      "Downloading http://yann.lecun.com/exdb/mnist/train-images-idx3-ubyte.gz\n",
      "Failed to download (trying next):\n",
      "<urlopen error [SSL: CERTIFICATE_VERIFY_FAILED] certificate verify failed: certificate has expired (_ssl.c:1006)>\n",
      "\n",
      "Downloading https://ossci-datasets.s3.amazonaws.com/mnist/train-images-idx3-ubyte.gz\n"
     ]
    },
    {
     "name": "stderr",
     "output_type": "stream",
     "text": [
      "8.9%"
     ]
    },
    {
     "name": "stdout",
     "output_type": "stream",
     "text": [
      "Downloading https://ossci-datasets.s3.amazonaws.com/mnist/train-images-idx3-ubyte.gz to ./data/MNIST/raw/train-images-idx3-ubyte.gz\n"
     ]
    },
    {
     "name": "stderr",
     "output_type": "stream",
     "text": [
      "100.0%\n"
     ]
    },
    {
     "name": "stdout",
     "output_type": "stream",
     "text": [
      "Extracting ./data/MNIST/raw/train-images-idx3-ubyte.gz to ./data/MNIST/raw\n",
      "\n",
      "Downloading http://yann.lecun.com/exdb/mnist/train-labels-idx1-ubyte.gz\n",
      "Failed to download (trying next):\n",
      "<urlopen error [SSL: CERTIFICATE_VERIFY_FAILED] certificate verify failed: certificate has expired (_ssl.c:1006)>\n",
      "\n",
      "Downloading https://ossci-datasets.s3.amazonaws.com/mnist/train-labels-idx1-ubyte.gz\n"
     ]
    },
    {
     "name": "stderr",
     "output_type": "stream",
     "text": [
      "100.0%"
     ]
    },
    {
     "name": "stdout",
     "output_type": "stream",
     "text": [
      "Downloading https://ossci-datasets.s3.amazonaws.com/mnist/train-labels-idx1-ubyte.gz to ./data/MNIST/raw/train-labels-idx1-ubyte.gz\n",
      "Extracting ./data/MNIST/raw/train-labels-idx1-ubyte.gz to ./data/MNIST/raw\n",
      "\n",
      "Downloading http://yann.lecun.com/exdb/mnist/t10k-images-idx3-ubyte.gz\n",
      "Failed to download (trying next):\n",
      "<urlopen error [SSL: CERTIFICATE_VERIFY_FAILED] certificate verify failed: certificate has expired (_ssl.c:1006)>\n",
      "\n",
      "Downloading https://ossci-datasets.s3.amazonaws.com/mnist/t10k-images-idx3-ubyte.gz\n",
      "Downloading https://ossci-datasets.s3.amazonaws.com/mnist/t10k-images-idx3-ubyte.gz to ./data/MNIST/raw/t10k-images-idx3-ubyte.gz\n"
     ]
    },
    {
     "name": "stderr",
     "output_type": "stream",
     "text": [
      "\n",
      "100.0%\n",
      "100.0%"
     ]
    },
    {
     "name": "stdout",
     "output_type": "stream",
     "text": [
      "Extracting ./data/MNIST/raw/t10k-images-idx3-ubyte.gz to ./data/MNIST/raw\n",
      "\n",
      "Downloading http://yann.lecun.com/exdb/mnist/t10k-labels-idx1-ubyte.gz\n",
      "Failed to download (trying next):\n",
      "<urlopen error [SSL: CERTIFICATE_VERIFY_FAILED] certificate verify failed: certificate has expired (_ssl.c:1006)>\n",
      "\n",
      "Downloading https://ossci-datasets.s3.amazonaws.com/mnist/t10k-labels-idx1-ubyte.gz\n",
      "Downloading https://ossci-datasets.s3.amazonaws.com/mnist/t10k-labels-idx1-ubyte.gz to ./data/MNIST/raw/t10k-labels-idx1-ubyte.gz\n",
      "Extracting ./data/MNIST/raw/t10k-labels-idx1-ubyte.gz to ./data/MNIST/raw\n",
      "\n",
      "# train images: 60000 and # test images: 10000\n"
     ]
    },
    {
     "name": "stderr",
     "output_type": "stream",
     "text": [
      "\n"
     ]
    }
   ],
   "source": [
    "# load data\n",
    "transform = transforms.Compose([transforms.ToTensor(), transforms.Lambda(lambda x: torch.flatten(x))])\n",
    "train_dataset = datasets.MNIST('./data', download=True, train=True, transform=transform)\n",
    "test_dataset = datasets.MNIST('./data', download=True, train=False, transform=transform)\n",
    "\n",
    "batch_size = 500\n",
    "train_loader = torch.utils.data.DataLoader(train_dataset, batch_size=batch_size, shuffle=True)\n",
    "\n",
    "print(f'# train images: {len(train_dataset)} and # test images: {len(test_dataset)}')"
   ]
  },
  {
   "cell_type": "markdown",
   "metadata": {},
   "source": [
    "### Defining a model\n",
    "A model can be initalised in the same way as pytorch model, with the addition of `pc.PCLayer()` to include latent variables in the model. \n",
    "\n",
    "A `PCLayer()` contains the activities of a layer of latent variables under `pclayer._x`. A `PCLayer()` also contains the energy associated with that activity under `pclayer._energy` which is computed with `0.5 *(inputs['mu'] - inputs['x'])**2` where `inputs['x']` is the activity of that layer and `inputs['mu']` is the input to that layer. \n",
    "\n",
    "Check out the `PCLayer()` class in `predictive_coding/pc_layer.py` for more information."
   ]
  },
  {
   "cell_type": "code",
   "execution_count": 15,
   "metadata": {},
   "outputs": [
    {
     "data": {
      "text/plain": [
       "Sequential(\n",
       "  (0): Linear(in_features=784, out_features=256, bias=True)\n",
       "  (1): PCLayer()\n",
       "  (2): ReLU()\n",
       "  (3): Linear(in_features=256, out_features=256, bias=True)\n",
       "  (4): PCLayer()\n",
       "  (5): ReLU()\n",
       "  (6): Linear(in_features=256, out_features=10, bias=True)\n",
       ")"
      ]
     },
     "execution_count": 15,
     "metadata": {},
     "output_type": "execute_result"
    }
   ],
   "source": [
    "input_size = 28*28  # 28x28 images\n",
    "hidden_size = 256\n",
    "output_size = 10    # 10 classes\n",
    "activation_fn = nn.ReLU\n",
    "loss_fn = lambda output, _target: 0.5 * (output - _target).pow(2).sum() # this loss function holds to the error of the output layer of the model\n",
    "\n",
    "\n",
    "model = nn.Sequential(\n",
    "    nn.Linear(input_size, hidden_size),\n",
    "    pc.PCLayer(),\n",
    "    activation_fn(),\n",
    "    nn.Linear(hidden_size, hidden_size),\n",
    "    pc.PCLayer(),\n",
    "    activation_fn(),\n",
    "    nn.Linear(hidden_size, output_size)\n",
    ")\n",
    "model.train()   # set the model to training mode\n",
    "model.to(device)"
   ]
  },
  {
   "cell_type": "markdown",
   "metadata": {},
   "source": [
    "### Defining a model trainer\n",
    "The predictive coding library is based around a `pc.PCTrainer()`. \n",
    "\n",
    "This trainer orchestrate the activity and parameter updates of the model to minimise the total error of the model. The total error is given by the sum of the energies in each pclayer as well as the loss functions. "
   ]
  },
  {
   "cell_type": "code",
   "execution_count": 16,
   "metadata": {},
   "outputs": [],
   "source": [
    "# number of inference iterations where the latent states x are updated. Inference does not run till convergence but for a fixed number of iterations\n",
    "T = 20                              \n",
    "\n",
    "# options for the update of the latent state x\n",
    "optimizer_x_fn = optim.SGD          # optimizer for latent state x, SGD perform gradient descent. Other alternative are Adam, RMSprop, etc. \n",
    "optimizer_x_kwargs = {'lr': 0.01}   # optimizer parameters for latent state x to pass to the optimizer. The best learning rate will depend on the task and the optimiser. \n",
    "                                    # Other parameters such as momentum, weight_decay could also be set here with additional elements, e.g., \"momentum\": 0.9, \"weight_decay\": 0.01\n",
    "\n",
    "# options for the update of the parameters p\n",
    "update_p_at = 'last'                # update parameters p at the last iteration, can be set to 'all' to implement ipc (https://arxiv.org/abs/2212.00720)\n",
    "optimizer_p_fn = optim.Adam         # optimizer for parameters p\n",
    "optimizer_p_kwargs = {'lr': 0.001}  # optimizer parameters for parameters p, 0.001 is a good starting point for Adam, but it should be adjusted for the task\n",
    "\n",
    "trainer = pc.PCTrainer(model, \n",
    "    T = T, \n",
    "    optimizer_x_fn = optimizer_x_fn,\n",
    "    optimizer_x_kwargs = optimizer_x_kwargs,\n",
    "    update_p_at = update_p_at,   \n",
    "    optimizer_p_fn = optimizer_p_fn,\n",
    "    optimizer_p_kwargs = optimizer_p_kwargs,\n",
    ")"
   ]
  },
  {
   "cell_type": "code",
   "execution_count": 17,
   "metadata": {},
   "outputs": [],
   "source": [
    "# get classification accuracy of the model\n",
    "def test(model, dataset, batch_size=1000):\n",
    "    model.eval()\n",
    "    test_loader = torch.utils.data.DataLoader(dataset, batch_size=batch_size, shuffle=False)\n",
    "    correct = 0\n",
    "    total = 0\n",
    "    for data, label in test_loader:\n",
    "        data, label = data.to(device), label.to(device)\n",
    "        pred = model(data)\n",
    "        _, predicted = torch.max(pred, -1)\n",
    "        total += label.size(0)\n",
    "        correct += (predicted == label).sum().item()\n",
    "    model.train()\n",
    "    return round(correct / total, 4)"
   ]
  },
  {
   "cell_type": "markdown",
   "metadata": {},
   "source": [
    "### Train the model\n",
    "`trainer.train_on_batch()` is called for each batch of data. This function updates the activity of the latent states and the parameters for the given batch of data. "
   ]
  },
  {
   "cell_type": "code",
   "execution_count": 18,
   "metadata": {},
   "outputs": [
    {
     "name": "stderr",
     "output_type": "stream",
     "text": [
      "Epoch 1 - Test accuracy: 0.103: 100%|██████████| 120/120 [00:15<00:00,  7.84it/s]\n",
      "Epoch 2 - Test accuracy: 0.959: 100%|██████████| 120/120 [00:14<00:00,  8.50it/s]\n",
      "Epoch 3 - Test accuracy: 0.971: 100%|██████████| 120/120 [00:14<00:00,  8.16it/s]\n",
      "Epoch 4 - Test accuracy: 0.975: 100%|██████████| 120/120 [00:13<00:00,  8.63it/s]\n",
      "Epoch 5 - Test accuracy: 0.979: 100%|██████████| 120/120 [00:12<00:00,  9.66it/s]\n",
      "Epoch 6 - Test accuracy: 0.981: 100%|██████████| 120/120 [00:12<00:00,  9.55it/s]\n",
      "Epoch 7 - Test accuracy: 0.983: 100%|██████████| 120/120 [00:13<00:00,  9.14it/s]\n",
      "Epoch 8 - Test accuracy: 0.983: 100%|██████████| 120/120 [00:13<00:00,  8.77it/s]\n",
      "Epoch 9 - Test accuracy: 0.983: 100%|██████████| 120/120 [00:13<00:00,  8.96it/s]\n",
      "Epoch 10 - Test accuracy: 0.984: 100%|██████████| 120/120 [00:12<00:00,  9.58it/s]\n"
     ]
    },
    {
     "data": {
      "image/png": "[encoded data removed]",
      "text/plain": [
       "<Figure size 640x480 with 1 Axes>"
      ]
     },
     "metadata": {},
     "output_type": "display_data"
    }
   ],
   "source": [
    "epochs = 10\n",
    "\n",
    "test_acc = np.zeros(epochs + 1)\n",
    "test_acc[0] = test(model, test_dataset)\n",
    "for epoch in range(epochs):\n",
    "    # Initialize the tqdm progress bar\n",
    "    with tqdm(train_loader, desc=f'Epoch {epoch+1} - Test accuracy: {test_acc[epoch]:.3f}') as pbar:\n",
    "        for data, label in pbar:\n",
    "            data, label = data.to(device), label.to(device)\n",
    "            # convert labels to one-hot encoding\n",
    "            label = F.one_hot(label, num_classes=output_size).float()\n",
    "            trainer.train_on_batch(\n",
    "                inputs=data,\n",
    "                loss_fn=loss_fn,\n",
    "                loss_fn_kwargs={'_target': label}\n",
    "            )    \n",
    "    test_acc[epoch + 1] = test(model, test_dataset)\n",
    "    pbar.set_description(f'Epoch {epoch + 1} - Test accuracy: {test_acc[epoch + 1]:.3f}')\n",
    "\n",
    "plt.plot(test_acc)\n",
    "plt.xlabel('Epoch')\n",
    "plt.ylabel('Test Accuracy')\n",
    "plt.show()"
   ]
  },
  {
   "cell_type": "markdown",
   "metadata": {},
   "source": [
    "The trained model achieves a classification accuracy of above 95% on MNIST which is comparable to a backpropagation trained model with the same architecture."
   ]
  }
 ],
 "metadata": {
  "kernelspec": {
   "display_name": "pytorch",
   "language": "python",
   "name": "python3"
  },
  "language_info": {
   "codemirror_mode": {
    "name": "ipython",
    "version": 3
   },
   "file_extension": ".py",
   "mimetype": "text/x-python",
   "name": "python",
   "nbconvert_exporter": "python",
   "pygments_lexer": "ipython3",
   "version": "3.11.9"
  }
 },
 "nbformat": 4,
 "nbformat_minor": 2
}
